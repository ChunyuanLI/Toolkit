{
 "cells": [
  {
   "cell_type": "markdown",
   "metadata": {},
   "source": [
    "## Class Inheritance in Python"
   ]
  },
  {
   "cell_type": "code",
   "execution_count": 15,
   "metadata": {},
   "outputs": [],
   "source": [
    "class Net(object):\n",
    "    \n",
    "    def __init__(self, name, n_layers):\n",
    "        self.name = name\n",
    "        self.n_layers = n_layers\n",
    "        \n",
    "    def getName(self):\n",
    "        return self.name\n",
    "    \n",
    "    def getLayers(self):\n",
    "        return self.n_layers\n",
    "    \n",
    "    def __str__(self):\n",
    "        return \"Define a %s of %d layers\" % (self.name, self.n_layers)"
   ]
  },
  {
   "cell_type": "markdown",
   "metadata": {},
   "source": [
    "Two ways to get the content of the instance."
   ]
  },
  {
   "cell_type": "code",
   "execution_count": 21,
   "metadata": {},
   "outputs": [
    {
     "name": "stdout",
     "output_type": "stream",
     "text": [
      "This is the standard way to get he number of layers: 3\n",
      "By passing the instance, we get the number of layers: 3\n"
     ]
    }
   ],
   "source": [
    "fnn = Net(\"FNN\", 3)\n",
    "print \"This is the standard way to get he number of layers: %d\" % fnn.getLayers()\n",
    "print \"By passing the instance, we get the number of layers: %d\" % Net.getLayers(fnn)"
   ]
  },
  {
   "cell_type": "markdown",
   "metadata": {},
   "source": [
    "In Python class, functions with a double underscore are special. \n",
    "\n",
    "For example, by overriding the \"__str__\" method specifically, we can define the behavior when printing an instance of the class using the print keyword."
   ]
  },
  {
   "cell_type": "code",
   "execution_count": 23,
   "metadata": {},
   "outputs": [
    {
     "name": "stdout",
     "output_type": "stream",
     "text": [
      "Define a FNN of 3 layers\n"
     ]
    }
   ],
   "source": [
    "print fnn"
   ]
  },
  {
   "cell_type": "code",
   "execution_count": null,
   "metadata": {
    "collapsed": true
   },
   "outputs": [],
   "source": []
  }
 ],
 "metadata": {
  "kernelspec": {
   "display_name": "Python 2",
   "language": "python",
   "name": "python2"
  },
  "language_info": {
   "codemirror_mode": {
    "name": "ipython",
    "version": 2
   },
   "file_extension": ".py",
   "mimetype": "text/x-python",
   "name": "python",
   "nbconvert_exporter": "python",
   "pygments_lexer": "ipython2",
   "version": "2.7.12"
  }
 },
 "nbformat": 4,
 "nbformat_minor": 2
}
