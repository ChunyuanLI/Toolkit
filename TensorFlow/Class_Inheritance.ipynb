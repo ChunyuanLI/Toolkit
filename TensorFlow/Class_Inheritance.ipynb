{
 "cells": [
  {
   "cell_type": "markdown",
   "metadata": {},
   "source": [
    "# Class Inheritance in Python\n",
    "\n",
    "### References\n",
    "\n",
    "[1] http://www.jesshamrick.com/2011/05/18/an-introduction-to-classes-and-inheritance-in-python/\n",
    "\n",
    "[2] https://pythontips.com/2013/08/04/args-and-kwargs-in-python-explained/\n",
    "\n",
    "--\n",
    "## Class\n",
    "\n",
    "Let's first define the base class __Net__."
   ]
  },
  {
   "cell_type": "code",
   "execution_count": 3,
   "metadata": {
    "collapsed": true
   },
   "outputs": [],
   "source": [
    "class Net(object):\n",
    "    \n",
    "    def __init__(self, name, n_layers):\n",
    "        self.name = name\n",
    "        self.n_layers = n_layers\n",
    "        \n",
    "    def getName(self):\n",
    "        return self.name\n",
    "    \n",
    "    def getLayers(self):\n",
    "        return self.n_layers\n",
    "    \n",
    "    def __str__(self):\n",
    "        return \"Define a %s of %d layers\" % (self.name, self.n_layers)"
   ]
  },
  {
   "cell_type": "markdown",
   "metadata": {},
   "source": [
    "Two ways to get the content of the instance."
   ]
  },
  {
   "cell_type": "code",
   "execution_count": 4,
   "metadata": {},
   "outputs": [
    {
     "name": "stdout",
     "output_type": "stream",
     "text": [
      "This is the standard way to get he number of layers: 3\n",
      "By passing the instance, we get the number of layers: 3\n"
     ]
    }
   ],
   "source": [
    "fnn = Net(\"FNN\", 3)\n",
    "print \"This is the standard way to get he number of layers: %d\" % fnn.getLayers()\n",
    "print \"By passing the instance, we get the number of layers: %d\" % Net.getLayers(fnn)"
   ]
  },
  {
   "cell_type": "markdown",
   "metadata": {},
   "source": [
    "In Python class, functions with a double underscore are special. \n",
    "\n",
    "For example, by overriding the \"__str__\" method specifically, we can define the behavior when printing an instance of the class using the print keyword."
   ]
  },
  {
   "cell_type": "code",
   "execution_count": 5,
   "metadata": {},
   "outputs": [
    {
     "name": "stdout",
     "output_type": "stream",
     "text": [
      "Define a FNN of 3 layers\n"
     ]
    }
   ],
   "source": [
    "print fnn"
   ]
  },
  {
   "cell_type": "markdown",
   "metadata": {
    "collapsed": true
   },
   "source": [
    "## SubClass\n",
    "\n",
    "Now, we can define __SubClass__"
   ]
  },
  {
   "cell_type": "code",
   "execution_count": 11,
   "metadata": {},
   "outputs": [],
   "source": [
    "class CNN(Net):\n",
    "    \n",
    "    def __init__(self, name, n_layers, n_filters):\n",
    "        Net.__init__(self, name, n_layers)\n",
    "        self.fileters = n_filters\n",
    "        \n",
    "    def getFilters(self):\n",
    "        return self.fileters"
   ]
  },
  {
   "cell_type": "code",
   "execution_count": 14,
   "metadata": {},
   "outputs": [
    {
     "name": "stdout",
     "output_type": "stream",
     "text": [
      "This is Simple_CNN with 2 layers and 5 filters\n",
      "Define a Simple_CNN of 2 layers\n"
     ]
    }
   ],
   "source": [
    "cnn = CNN(\"Simple_CNN\", 2, 5) # define a CNN with 2 layers, and 5 filters\n",
    "print \"This is %s with %d layers and %d filters\" % (cnn.getName(), cnn.getLayers(), cnn.getFilters())\n",
    "\n",
    "print cnn"
   ]
  },
  {
   "cell_type": "markdown",
   "metadata": {},
   "source": [
    "## Override SuperClass\n",
    "The ability of a subclass to override a method allows a class to inherit from a superclass whose behavior is \"close enough\" and then to modify behavior as needed. The overriding method has the same name, number and type of parameters, and return type as the method that it overrides."
   ]
  },
  {
   "cell_type": "code",
   "execution_count": 21,
   "metadata": {
    "collapsed": true
   },
   "outputs": [],
   "source": [
    "class RNN(Net):\n",
    "    def __init__(self, *argv):\n",
    "        super(RNN, self).__init__(*argv)\n",
    "        self.timesteps = 0\n",
    "       \n",
    "    def set_timesteps(self, T):\n",
    "        self.timesteps = T\n",
    "        \n",
    "    def get_timesteps(self):\n",
    "        return self.timesteps\n",
    "        "
   ]
  },
  {
   "cell_type": "code",
   "execution_count": 26,
   "metadata": {},
   "outputs": [
    {
     "name": "stdout",
     "output_type": "stream",
     "text": [
      "This is Simple RNN with 2 layers and 0 time steps\n",
      "This is Simple RNN with 2 layers and 10 time steps\n",
      "Define a Simple RNN of 2 layers\n"
     ]
    }
   ],
   "source": [
    "rnn = RNN(\"Simple RNN\", 2)\n",
    "\n",
    "print \"This is %s with %d layers and %d time steps\" % (rnn.getName(), rnn.getLayers(), rnn.get_timesteps())\n",
    "\n",
    "rnn.set_timesteps(10)\n",
    "print \"This is %s with %d layers and %d time steps\" % (rnn.getName(), rnn.getLayers(), rnn.get_timesteps())\n",
    "\n",
    "print rnn"
   ]
  },
  {
   "cell_type": "markdown",
   "metadata": {},
   "source": [
    "### Appendix\n",
    "\n",
    "Comparison between *args and **kwargs in Python\n",
    "\n",
    "allow you to pass a variable number of arguments to a function. What does variable mean here is that you do not know before hand that how many arguments can be passed to your function by the user so in this case you use these two keywords.\n",
    "\n",
    "1. *args is used to send a non-keyworded variable length argument list to the function\n",
    "2. **kwargs allows you to pass keyworded variable length of arguments to a function."
   ]
  },
  {
   "cell_type": "code",
   "execution_count": 32,
   "metadata": {},
   "outputs": [
    {
     "name": "stdout",
     "output_type": "stream",
     "text": [
      "first normal arg: yasoob\n",
      "another arg through *argv : python\n",
      "another arg through *argv : eggs\n",
      "another arg through *argv : test\n",
      "name2 == python\n",
      "name1 == yasoob\n"
     ]
    }
   ],
   "source": [
    "def test_var_args(f_arg, *argv):\n",
    "    print \"first normal arg:\", f_arg\n",
    "    for arg in argv:\n",
    "        print \"another arg through *argv :\", arg\n",
    "\n",
    "\n",
    "\n",
    "def greet_me(**kwargs):\n",
    "    if kwargs is not None:\n",
    "        for key, value in kwargs.iteritems():\n",
    "            print \"%s == %s\" %(key,value)\n",
    "\n",
    "            \n",
    "test_var_args('yasoob','python','eggs','test')\n",
    "\n",
    "greet_me(name1=\"yasoob\", name2=\"python\")"
   ]
  },
  {
   "cell_type": "code",
   "execution_count": null,
   "metadata": {
    "collapsed": true
   },
   "outputs": [],
   "source": []
  }
 ],
 "metadata": {
  "kernelspec": {
   "display_name": "Python 2",
   "language": "python",
   "name": "python2"
  },
  "language_info": {
   "codemirror_mode": {
    "name": "ipython",
    "version": 2
   },
   "file_extension": ".py",
   "mimetype": "text/x-python",
   "name": "python",
   "nbconvert_exporter": "python",
   "pygments_lexer": "ipython2",
   "version": "2.7.12"
  }
 },
 "nbformat": 4,
 "nbformat_minor": 2
}
